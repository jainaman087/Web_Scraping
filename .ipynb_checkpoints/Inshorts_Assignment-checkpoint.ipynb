{
 "cells": [
  {
   "cell_type": "markdown",
   "id": "c96da5b5",
   "metadata": {},
   "source": [
    "### Data Retrieval:\n",
    "\n",
    "#### Fetch the top 100 news items for each category: Technology, Automobile, Science, and Hatke from the \"inshorts\" news platform. \n",
    "#### Extract the following information for each news item: Date, Time, Author, Title, Body,Published Source, Category."
   ]
  },
  {
   "cell_type": "code",
   "execution_count": 1,
   "id": "ed117be0",
   "metadata": {
    "id": "ed117be0"
   },
   "outputs": [],
   "source": [
    "# Importing Required Libraries\n",
    "\n",
    "from bs4 import BeautifulSoup\n",
    "import requests\n",
    "import json\n",
    "import pandas as pd"
   ]
  },
  {
   "cell_type": "code",
   "execution_count": 2,
   "id": "69a86f4e",
   "metadata": {
    "id": "69a86f4e"
   },
   "outputs": [],
   "source": [
    "# Web Scraping from Inshorts News Website\n",
    "\n",
    "Categories = ['technology',\"automobile\",\"science\",\"hatke\"]\n",
    "\n",
    "# Creating Empty List with the required categories\n",
    "\n",
    "Datetime =[]\n",
    "Author = []\n",
    "Title = []\n",
    "Body=[]\n",
    "Published_Source = []\n",
    "Category =[]\n",
    "\n",
    "# Loop for extracting the information for each news item\n",
    "\n",
    "for category in Categories:\n",
    "    for page_no in range(1,15):\n",
    "        url =f\"https://inshorts.com/api/en/search/trending_topics/{category}?page={page_no}\"\n",
    "\n",
    "        source = requests.get(url).text\n",
    "        content_data = json.loads(source)\n",
    "\n",
    "        for news_content in content_data['data']['news_list']:\n",
    "\n",
    "            #Datetime\n",
    "            try:\n",
    "                Datetime.append(news_content['news_obj']['created_at'])\n",
    "            except:\n",
    "                Datetime.append(\"\")\n",
    "\n",
    "            #Author\n",
    "            try:\n",
    "                Author.append(news_content['news_obj']['author_name'])\n",
    "            except:\n",
    "                Author.append(\"\")\n",
    "\n",
    "            #Title\n",
    "            try:\n",
    "                Title.append(news_content['news_obj']['title'])\n",
    "            except:\n",
    "                Title.append(\"\")\n",
    "\n",
    "            #Body\n",
    "            try:\n",
    "                Body.append(news_content['news_obj']['content'])\n",
    "            except:\n",
    "                Body.append(\"\")\n",
    "\n",
    "            #Published_Source\n",
    "            try:\n",
    "                Published_Source.append(news_content['news_obj']['source_name'])\n",
    "            except:\n",
    "                Published_Source.append(\"\")\n",
    "\n",
    "            #Category\n",
    "            Category.append(category)\n",
    "\n",
    "\n",
    "# Creating dictionary and saving it in a dataframe    \n",
    "\n",
    "dictionary = {\"Datetime\":Datetime, \"Author\":Author, \"Title\":Title, \"Body\":Body, \"Published_Source\":Published_Source, \"Category\":Category}\n",
    "df  = pd.DataFrame(dictionary)"
   ]
  },
  {
   "cell_type": "code",
   "execution_count": 3,
   "id": "e8ea0b55",
   "metadata": {
    "id": "e8ea0b55"
   },
   "outputs": [],
   "source": [
    "# Convert Unix timestamp in milliseconds to datetime format\n",
    "\n",
    "df['Datetime'] = pd.to_datetime(df['Datetime'], unit='ms')\n",
    "\n",
    "# Creating Date and Time columns separately as required \n",
    "\n",
    "df['Date'] = df['Datetime'].dt.date\n",
    "df['Time'] = df['Datetime'].dt.strftime('%H:%M')\n",
    "\n",
    "# Deleting the original Datetime column\n",
    "\n",
    "del df[\"Datetime\"]\n",
    "\n",
    "# Rearranging the dataframe in a required order\n",
    "\n",
    "df = df[['Date', 'Time', 'Author', 'Title', 'Body', 'Published_Source', 'Category']]"
   ]
  },
  {
   "cell_type": "code",
   "execution_count": 4,
   "id": "29e878d1",
   "metadata": {},
   "outputs": [],
   "source": [
    "df=df.dropna()"
   ]
  },
  {
   "cell_type": "code",
   "execution_count": 5,
   "id": "c5015671",
   "metadata": {},
   "outputs": [],
   "source": [
    "df=df.drop_duplicates()"
   ]
  },
  {
   "cell_type": "code",
   "execution_count": 6,
   "id": "dcb2a237",
   "metadata": {},
   "outputs": [
    {
     "name": "stdout",
     "output_type": "stream",
     "text": [
      "(500, 7)\n"
     ]
    },
    {
     "data": {
      "text/html": [
       "<div>\n",
       "<style scoped>\n",
       "    .dataframe tbody tr th:only-of-type {\n",
       "        vertical-align: middle;\n",
       "    }\n",
       "\n",
       "    .dataframe tbody tr th {\n",
       "        vertical-align: top;\n",
       "    }\n",
       "\n",
       "    .dataframe thead th {\n",
       "        text-align: right;\n",
       "    }\n",
       "</style>\n",
       "<table border=\"1\" class=\"dataframe\">\n",
       "  <thead>\n",
       "    <tr style=\"text-align: right;\">\n",
       "      <th></th>\n",
       "      <th>Date</th>\n",
       "      <th>Time</th>\n",
       "      <th>Author</th>\n",
       "      <th>Title</th>\n",
       "      <th>Body</th>\n",
       "      <th>Published_Source</th>\n",
       "      <th>Category</th>\n",
       "    </tr>\n",
       "  </thead>\n",
       "  <tbody>\n",
       "    <tr>\n",
       "      <th>0</th>\n",
       "      <td>2023-12-07</td>\n",
       "      <td>06:00</td>\n",
       "      <td>Editor InceptiveMind</td>\n",
       "      <td>Rolls-Royce runs world’s largest aeroengine to...</td>\n",
       "      <td>Rolls-Royce's UltraFan, the world's largest an...</td>\n",
       "      <td>Inceptive Mind</td>\n",
       "      <td>technology</td>\n",
       "    </tr>\n",
       "    <tr>\n",
       "      <th>1</th>\n",
       "      <td>2023-12-07</td>\n",
       "      <td>05:41</td>\n",
       "      <td>Nidhi Sinha</td>\n",
       "      <td>Bard will become more capable of reasoning wit...</td>\n",
       "      <td>Google Assistant Vice-President Sissie Hsiao s...</td>\n",
       "      <td>Moneycontrol</td>\n",
       "      <td>technology</td>\n",
       "    </tr>\n",
       "    <tr>\n",
       "      <th>2</th>\n",
       "      <td>2023-12-07</td>\n",
       "      <td>04:26</td>\n",
       "      <td>Jay Pandya</td>\n",
       "      <td>Apple executive who invented iPhone screen and...</td>\n",
       "      <td>Apple Inc.'s senior executive overseeing touch...</td>\n",
       "      <td>BQ Prime</td>\n",
       "      <td>technology</td>\n",
       "    </tr>\n",
       "    <tr>\n",
       "      <th>3</th>\n",
       "      <td>2023-12-07</td>\n",
       "      <td>04:20</td>\n",
       "      <td>Pragya Swastik</td>\n",
       "      <td>Google says its Gemini AI model beats GPT-4</td>\n",
       "      <td>Google has claimed that its new AI model Gemin...</td>\n",
       "      <td>Google</td>\n",
       "      <td>technology</td>\n",
       "    </tr>\n",
       "    <tr>\n",
       "      <th>4</th>\n",
       "      <td>2023-12-07</td>\n",
       "      <td>04:17</td>\n",
       "      <td>Pragya Swastik</td>\n",
       "      <td>Video shows Google's Gemini AI solving visual ...</td>\n",
       "      <td>A video shared by Google showed the company's ...</td>\n",
       "      <td>YouTube</td>\n",
       "      <td>technology</td>\n",
       "    </tr>\n",
       "  </tbody>\n",
       "</table>\n",
       "</div>"
      ],
      "text/plain": [
       "         Date   Time                Author  \\\n",
       "0  2023-12-07  06:00  Editor InceptiveMind   \n",
       "1  2023-12-07  05:41           Nidhi Sinha   \n",
       "2  2023-12-07  04:26            Jay Pandya   \n",
       "3  2023-12-07  04:20        Pragya Swastik   \n",
       "4  2023-12-07  04:17        Pragya Swastik   \n",
       "\n",
       "                                               Title  \\\n",
       "0  Rolls-Royce runs world’s largest aeroengine to...   \n",
       "1  Bard will become more capable of reasoning wit...   \n",
       "2  Apple executive who invented iPhone screen and...   \n",
       "3        Google says its Gemini AI model beats GPT-4   \n",
       "4  Video shows Google's Gemini AI solving visual ...   \n",
       "\n",
       "                                                Body Published_Source  \\\n",
       "0  Rolls-Royce's UltraFan, the world's largest an...   Inceptive Mind   \n",
       "1  Google Assistant Vice-President Sissie Hsiao s...     Moneycontrol   \n",
       "2  Apple Inc.'s senior executive overseeing touch...         BQ Prime   \n",
       "3  Google has claimed that its new AI model Gemin...           Google   \n",
       "4  A video shared by Google showed the company's ...          YouTube   \n",
       "\n",
       "     Category  \n",
       "0  technology  \n",
       "1  technology  \n",
       "2  technology  \n",
       "3  technology  \n",
       "4  technology  "
      ]
     },
     "execution_count": 6,
     "metadata": {},
     "output_type": "execute_result"
    }
   ],
   "source": [
    "# Displaying Dataframe\n",
    "print(df.shape)\n",
    "df.head()"
   ]
  },
  {
   "cell_type": "code",
   "execution_count": null,
   "id": "e9f6713d",
   "metadata": {},
   "outputs": [],
   "source": []
  },
  {
   "cell_type": "code",
   "execution_count": null,
   "id": "d795f2b8",
   "metadata": {},
   "outputs": [],
   "source": []
  },
  {
   "cell_type": "markdown",
   "id": "301bc366",
   "metadata": {},
   "source": [
    "### Data Storage:\n",
    "\n",
    "#### Design a relational database schema to store the extracted information.\n",
    "#### Pipeline the data into the designed database."
   ]
  },
  {
   "cell_type": "code",
   "execution_count": 7,
   "id": "a39e827c",
   "metadata": {
    "id": "a39e827c"
   },
   "outputs": [],
   "source": [
    "# Importing Required Libraries\n",
    "\n",
    "import sqlite3\n",
    "import pandas as pd"
   ]
  },
  {
   "cell_type": "code",
   "execution_count": 8,
   "id": "k_NtkKKwgYvw",
   "metadata": {
    "id": "k_NtkKKwgYvw"
   },
   "outputs": [],
   "source": [
    "# Connect to SQLite database\n",
    "\n",
    "conn = sqlite3.connect('news_database.db')\n",
    "\n",
    "# Create a cursor object to execute SQL queries\n",
    "\n",
    "cursor = conn.cursor()"
   ]
  },
  {
   "cell_type": "code",
   "execution_count": 9,
   "id": "4arolmzTkqxC",
   "metadata": {
    "colab": {
     "base_uri": "https://localhost:8080/"
    },
    "id": "4arolmzTkqxC",
    "outputId": "5b783e81-fb53-4461-ac96-3a361c8cf4e0"
   },
   "outputs": [
    {
     "data": {
      "text/plain": [
       "<sqlite3.Cursor at 0x1172a7a40>"
      ]
     },
     "execution_count": 9,
     "metadata": {},
     "output_type": "execute_result"
    }
   ],
   "source": [
    "# Drop Table If exists\n",
    "\n",
    "cursor.execute('''DROP TABLE IF EXISTS News_Items''')"
   ]
  },
  {
   "cell_type": "code",
   "execution_count": 10,
   "id": "MZ1Q9957iAhD",
   "metadata": {
    "colab": {
     "base_uri": "https://localhost:8080/"
    },
    "id": "MZ1Q9957iAhD",
    "outputId": "2a14690b-6195-45f3-f8d0-97437d26b9ae"
   },
   "outputs": [
    {
     "data": {
      "text/plain": [
       "<sqlite3.Cursor at 0x1172a7a40>"
      ]
     },
     "execution_count": 10,
     "metadata": {},
     "output_type": "execute_result"
    }
   ],
   "source": [
    "# Create a table in the database\n",
    "\n",
    "cursor.execute('''\n",
    "    CREATE TABLE IF NOT EXISTS News_Items (\n",
    "        S_No INTEGER PRIMARY KEY,\n",
    "        Date Date,\n",
    "        Time Time,\n",
    "        Author TEXT,\n",
    "        Title TEXT,\n",
    "        Body TEXT,\n",
    "        Published_Source TEXT,\n",
    "        Category TEXT\n",
    "    )\n",
    "''')"
   ]
  },
  {
   "cell_type": "code",
   "execution_count": 11,
   "id": "UlPg9zDYg7fD",
   "metadata": {
    "id": "UlPg9zDYg7fD"
   },
   "outputs": [],
   "source": [
    "# Pipeline the data into the database\n",
    "\n",
    "for index, row in df.iterrows():\n",
    "    cursor.execute('''\n",
    "        INSERT INTO News_Items (Date, Time, Author, Title, Body, Published_Source, Category)\n",
    "        VALUES (?, ?, ?, ?, ?, ?, ?)\n",
    "    ''', (row['Date'], row['Time'], row['Author'], row['Title'], row['Body'], row['Published_Source'], row['Category']))\n"
   ]
  },
  {
   "cell_type": "code",
   "execution_count": 12,
   "id": "5QdTOdoqiMFu",
   "metadata": {
    "id": "5QdTOdoqiMFu"
   },
   "outputs": [],
   "source": [
    "# Commit the changes\n",
    "conn.commit()"
   ]
  },
  {
   "cell_type": "code",
   "execution_count": 13,
   "id": "WgTWlvZ7jR_f",
   "metadata": {
    "colab": {
     "base_uri": "https://localhost:8080/"
    },
    "id": "WgTWlvZ7jR_f",
    "outputId": "7ff6940d-6987-42a8-df10-5f3018590123"
   },
   "outputs": [],
   "source": [
    "# Execute a SELECT query to fetch all rows from the News Items table\n",
    "cursor.execute('''select * from News_Items''')\n",
    "\n",
    "# Fetch all rows from the result set\n",
    "rows = cursor.fetchall()\n",
    "\n",
    "# Get column names from the cursor description\n",
    "columns = [description[0] for description in cursor.description]\n",
    "# print(columns)\n",
    "\n",
    "\n",
    "# Display results\n",
    "# for row in rows:\n",
    "#     print(row)    \n",
    "    \n",
    "# Close the connection    \n",
    "conn.close()"
   ]
  },
  {
   "cell_type": "markdown",
   "id": "57881e87",
   "metadata": {},
   "source": [
    "# "
   ]
  },
  {
   "cell_type": "markdown",
   "id": "b5df45c0",
   "metadata": {},
   "source": [
    "### Keyword Analysis:\n",
    "\n",
    "#### Create a word cloud visualization based on the frequency of the following keywords in the fetched articles: \"Diwali\", \"Offer\", \"Discount\", \"Dhamaka\", \"Dead\", \"Fire\", \"Burn\"."
   ]
  },
  {
   "cell_type": "code",
   "execution_count": 14,
   "id": "98e06a2d",
   "metadata": {},
   "outputs": [
    {
     "data": {
      "text/html": [
       "<div>\n",
       "<style scoped>\n",
       "    .dataframe tbody tr th:only-of-type {\n",
       "        vertical-align: middle;\n",
       "    }\n",
       "\n",
       "    .dataframe tbody tr th {\n",
       "        vertical-align: top;\n",
       "    }\n",
       "\n",
       "    .dataframe thead th {\n",
       "        text-align: right;\n",
       "    }\n",
       "</style>\n",
       "<table border=\"1\" class=\"dataframe\">\n",
       "  <thead>\n",
       "    <tr style=\"text-align: right;\">\n",
       "      <th></th>\n",
       "      <th>Date</th>\n",
       "      <th>Time</th>\n",
       "      <th>Author</th>\n",
       "      <th>Title</th>\n",
       "      <th>Body</th>\n",
       "      <th>Published_Source</th>\n",
       "      <th>Category</th>\n",
       "    </tr>\n",
       "  </thead>\n",
       "  <tbody>\n",
       "    <tr>\n",
       "      <th>0</th>\n",
       "      <td>2023-12-07</td>\n",
       "      <td>06:00</td>\n",
       "      <td>Editor InceptiveMind</td>\n",
       "      <td>Rolls-Royce runs world’s largest aeroengine to...</td>\n",
       "      <td>Rolls-Royce's UltraFan, the world's largest an...</td>\n",
       "      <td>Inceptive Mind</td>\n",
       "      <td>technology</td>\n",
       "    </tr>\n",
       "    <tr>\n",
       "      <th>1</th>\n",
       "      <td>2023-12-07</td>\n",
       "      <td>05:41</td>\n",
       "      <td>Nidhi Sinha</td>\n",
       "      <td>Bard will become more capable of reasoning wit...</td>\n",
       "      <td>Google Assistant Vice-President Sissie Hsiao s...</td>\n",
       "      <td>Moneycontrol</td>\n",
       "      <td>technology</td>\n",
       "    </tr>\n",
       "    <tr>\n",
       "      <th>2</th>\n",
       "      <td>2023-12-07</td>\n",
       "      <td>04:26</td>\n",
       "      <td>Jay Pandya</td>\n",
       "      <td>Apple executive who invented iPhone screen and...</td>\n",
       "      <td>Apple Inc.'s senior executive overseeing touch...</td>\n",
       "      <td>BQ Prime</td>\n",
       "      <td>technology</td>\n",
       "    </tr>\n",
       "    <tr>\n",
       "      <th>3</th>\n",
       "      <td>2023-12-07</td>\n",
       "      <td>04:20</td>\n",
       "      <td>Pragya Swastik</td>\n",
       "      <td>Google says its Gemini AI model beats GPT-4</td>\n",
       "      <td>Google has claimed that its new AI model Gemin...</td>\n",
       "      <td>Google</td>\n",
       "      <td>technology</td>\n",
       "    </tr>\n",
       "    <tr>\n",
       "      <th>4</th>\n",
       "      <td>2023-12-07</td>\n",
       "      <td>04:17</td>\n",
       "      <td>Pragya Swastik</td>\n",
       "      <td>Video shows Google's Gemini AI solving visual ...</td>\n",
       "      <td>A video shared by Google showed the company's ...</td>\n",
       "      <td>YouTube</td>\n",
       "      <td>technology</td>\n",
       "    </tr>\n",
       "  </tbody>\n",
       "</table>\n",
       "</div>"
      ],
      "text/plain": [
       "         Date   Time                Author  \\\n",
       "0  2023-12-07  06:00  Editor InceptiveMind   \n",
       "1  2023-12-07  05:41           Nidhi Sinha   \n",
       "2  2023-12-07  04:26            Jay Pandya   \n",
       "3  2023-12-07  04:20        Pragya Swastik   \n",
       "4  2023-12-07  04:17        Pragya Swastik   \n",
       "\n",
       "                                               Title  \\\n",
       "0  Rolls-Royce runs world’s largest aeroengine to...   \n",
       "1  Bard will become more capable of reasoning wit...   \n",
       "2  Apple executive who invented iPhone screen and...   \n",
       "3        Google says its Gemini AI model beats GPT-4   \n",
       "4  Video shows Google's Gemini AI solving visual ...   \n",
       "\n",
       "                                                Body Published_Source  \\\n",
       "0  Rolls-Royce's UltraFan, the world's largest an...   Inceptive Mind   \n",
       "1  Google Assistant Vice-President Sissie Hsiao s...     Moneycontrol   \n",
       "2  Apple Inc.'s senior executive overseeing touch...         BQ Prime   \n",
       "3  Google has claimed that its new AI model Gemin...           Google   \n",
       "4  A video shared by Google showed the company's ...          YouTube   \n",
       "\n",
       "     Category  \n",
       "0  technology  \n",
       "1  technology  \n",
       "2  technology  \n",
       "3  technology  \n",
       "4  technology  "
      ]
     },
     "execution_count": 14,
     "metadata": {},
     "output_type": "execute_result"
    }
   ],
   "source": [
    "df.head()"
   ]
  },
  {
   "cell_type": "code",
   "execution_count": 15,
   "id": "be2c3a51",
   "metadata": {},
   "outputs": [],
   "source": [
    "# Importing Required Libraries\n",
    "\n",
    "from wordcloud import WordCloud\n",
    "import matplotlib.pyplot as plt"
   ]
  },
  {
   "cell_type": "code",
   "execution_count": 16,
   "id": "36011bc1",
   "metadata": {},
   "outputs": [
    {
     "data": {
      "image/png": "[encoded data removed]",
      "text/plain": [
       "<Figure size 1000x500 with 1 Axes>"
      ]
     },
     "metadata": {},
     "output_type": "display_data"
    }
   ],
   "source": [
    "# Keywords for analysis\n",
    "keywords = [\"Diwali\", \"Offer\", \"Discount\", \"Dhamaka\", \"Dead\", \"Fire\", \"Burn\"]\n",
    "\n",
    "# Combine relevant text fields (Title, Body) into a single column for analysis\n",
    "df['Text'] = df['Title'] + ' ' + df['Body']\n",
    "\n",
    "# Concatenate the text from all rows\n",
    "all_text = ' '.join(df['Text'])\n",
    "\n",
    "# Generate word cloud based on the frequency of specified keywords\n",
    "wordcloud = WordCloud(width=800, height=400, background_color='white').generate_from_frequencies({keyword: all_text.lower().count(keyword.lower()) for keyword in keywords})\n",
    "\n",
    "# Display the word cloud using matplotlib\n",
    "plt.figure(figsize=(10, 5))\n",
    "plt.imshow(wordcloud, interpolation='bilinear')\n",
    "plt.axis('off')\n",
    "plt.show()"
   ]
  },
  {
   "cell_type": "code",
   "execution_count": null,
   "id": "73ef4dd4",
   "metadata": {},
   "outputs": [],
   "source": []
  }
 ],
 "metadata": {
  "colab": {
   "provenance": []
  },
  "kernelspec": {
   "display_name": "Python 3 (ipykernel)",
   "language": "python",
   "name": "python3"
  },
  "language_info": {
   "codemirror_mode": {
    "name": "ipython",
    "version": 3
   },
   "file_extension": ".py",
   "mimetype": "text/x-python",
   "name": "python",
   "nbconvert_exporter": "python",
   "pygments_lexer": "ipython3",
   "version": "3.11.4"
  }
 },
 "nbformat": 4,
 "nbformat_minor": 5
}
