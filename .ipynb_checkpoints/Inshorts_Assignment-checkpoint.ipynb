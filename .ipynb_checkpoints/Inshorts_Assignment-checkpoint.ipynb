{
 "cells": [
  {
   "cell_type": "markdown",
   "id": "c96da5b5",
   "metadata": {},
   "source": [
    "### Data Retrieval:\n",
    "\n",
    "#### Fetch the top 100 news items for each category: Technology, Automobile, Science, and Hatke from the \"inshorts\" news platform. \n",
    "#### Extract the following information for each news item: Date, Time, Author, Title, Body,Published Source, Category."
   ]
  },
  {
   "cell_type": "code",
   "execution_count": 1,
   "id": "ed117be0",
   "metadata": {
    "id": "ed117be0"
   },
   "outputs": [],
   "source": [
    "# Importing Required Libraries\n",
    "\n",
    "from bs4 import BeautifulSoup\n",
    "import requests\n",
    "import json\n",
    "import pandas as pd"
   ]
  },
  {
   "cell_type": "code",
   "execution_count": 2,
   "id": "69a86f4e",
   "metadata": {
    "id": "69a86f4e"
   },
   "outputs": [],
   "source": [
    "# Web Scraping from Inshorts News Website\n",
    "\n",
    "Categories = ['technology',\"automobile\",\"science\",\"hatke\"]\n",
    "\n",
    "# Creating Empty List with the required categories\n",
    "\n",
    "Datetime =[]\n",
    "Author = []\n",
    "Title = []\n",
    "Body=[]\n",
    "Published_Source = []\n",
    "Category =[]\n",
    "Rank =[]\n",
    "\n",
    "# Loop for extracting the information for each news item\n",
    "\n",
    "for category in Categories:\n",
    "    for page_no in range(1,15):\n",
    "        url =f\"https://inshorts.com/api/en/search/trending_topics/{category}?page={page_no}\"\n",
    "\n",
    "        source = requests.get(url).text\n",
    "        content_data = json.loads(source)\n",
    "\n",
    "        for news_content in content_data['data']['news_list']:\n",
    "\n",
    "            #Datetime\n",
    "            try:\n",
    "                Datetime.append(news_content['news_obj']['created_at'])\n",
    "            except:\n",
    "                Datetime.append(\"\")\n",
    "\n",
    "            #Author\n",
    "            try:\n",
    "                Author.append(news_content['news_obj']['author_name'])\n",
    "            except:\n",
    "                Author.append(\"\")\n",
    "\n",
    "            #Title\n",
    "            try:\n",
    "                Title.append(news_content['news_obj']['title'])\n",
    "            except:\n",
    "                Title.append(\"\")\n",
    "\n",
    "            #Body\n",
    "            try:\n",
    "                Body.append(news_content['news_obj']['content'])\n",
    "            except:\n",
    "                Body.append(\"\")\n",
    "\n",
    "            #Published_Source\n",
    "            try:\n",
    "                Published_Source.append(news_content['news_obj']['source_name'])\n",
    "            except:\n",
    "                Published_Source.append(\"\")\n",
    "\n",
    "            #Category\n",
    "            Category.append(category)\n",
    "            \n",
    "            #Rank\n",
    "            try:\n",
    "                Rank.append(news_content['rank'])\n",
    "            except:\n",
    "                Rank.append(\"\")\n",
    "\n",
    "\n",
    "# Creating dictionary and saving it in a dataframe    \n",
    "\n",
    "dictionary = {\"Datetime\":Datetime, \"Author\":Author, \"Title\":Title, \"Body\":Body, \"Published_Source\":Published_Source, \"Category\":Category, \"Rank\":Rank}\n",
    "fetched_df  = pd.DataFrame(dictionary)"
   ]
  },
  {
   "cell_type": "code",
   "execution_count": 3,
   "id": "a1c707c8",
   "metadata": {},
   "outputs": [],
   "source": [
    "# Dropping Null, Empty and Duplicates Values\n",
    "\n",
    "fetched_df=fetched_df.dropna()\n",
    "fetched_df=fetched_df[fetched_df['Datetime'] != '']\n",
    "fetched_df=fetched_df.drop_duplicates()"
   ]
  },
  {
   "cell_type": "code",
   "execution_count": 4,
   "id": "291ec58c",
   "metadata": {},
   "outputs": [
    {
     "data": {
      "text/html": [
       "<div>\n",
       "<style scoped>\n",
       "    .dataframe tbody tr th:only-of-type {\n",
       "        vertical-align: middle;\n",
       "    }\n",
       "\n",
       "    .dataframe tbody tr th {\n",
       "        vertical-align: top;\n",
       "    }\n",
       "\n",
       "    .dataframe thead th {\n",
       "        text-align: right;\n",
       "    }\n",
       "</style>\n",
       "<table border=\"1\" class=\"dataframe\">\n",
       "  <thead>\n",
       "    <tr style=\"text-align: right;\">\n",
       "      <th></th>\n",
       "      <th>Datetime</th>\n",
       "      <th>Author</th>\n",
       "      <th>Title</th>\n",
       "      <th>Body</th>\n",
       "      <th>Published_Source</th>\n",
       "      <th>Category</th>\n",
       "      <th>Rank</th>\n",
       "    </tr>\n",
       "  </thead>\n",
       "  <tbody>\n",
       "    <tr>\n",
       "      <th>0</th>\n",
       "      <td>1702026952000</td>\n",
       "      <td>Hiral Goyal</td>\n",
       "      <td>17 apps removed from Google for spying on user...</td>\n",
       "      <td>Google has removed 17 apps from Play Store, wh...</td>\n",
       "      <td>The Siasat Daily</td>\n",
       "      <td>technology</td>\n",
       "      <td>0</td>\n",
       "    </tr>\n",
       "    <tr>\n",
       "      <th>1</th>\n",
       "      <td>1702026551000</td>\n",
       "      <td>Editor InceptiveMind</td>\n",
       "      <td>Airbus’ kit converts regular A400M into firefi...</td>\n",
       "      <td>Airbus has flight-tested its A400M Roll-on/Rol...</td>\n",
       "      <td>Inceptive Mind</td>\n",
       "      <td>technology</td>\n",
       "      <td>1</td>\n",
       "    </tr>\n",
       "    <tr>\n",
       "      <th>3</th>\n",
       "      <td>1702024655000</td>\n",
       "      <td>Ashley Paul</td>\n",
       "      <td>RBI proposes setting up fintech repository by ...</td>\n",
       "      <td>RBI Governor Shaktikanta Das said the Monetary...</td>\n",
       "      <td>Moneycontrol</td>\n",
       "      <td>technology</td>\n",
       "      <td>3</td>\n",
       "    </tr>\n",
       "    <tr>\n",
       "      <th>4</th>\n",
       "      <td>1702022744000</td>\n",
       "      <td>Pratham Nagpal</td>\n",
       "      <td>Tata Opposes EV Import Tax Cut To Protect Dome...</td>\n",
       "      <td>Tata Motors is reportedly urging Indian offici...</td>\n",
       "      <td>inc42.com</td>\n",
       "      <td>technology</td>\n",
       "      <td>4</td>\n",
       "    </tr>\n",
       "    <tr>\n",
       "      <th>5</th>\n",
       "      <td>1702022458000</td>\n",
       "      <td>Pratham Nagpal</td>\n",
       "      <td>Why Did India's BNPL Giant ZestMoney Shut Shop?</td>\n",
       "      <td>Founders quitting, a failed acquisition bid, r...</td>\n",
       "      <td>inc42.com</td>\n",
       "      <td>technology</td>\n",
       "      <td>5</td>\n",
       "    </tr>\n",
       "  </tbody>\n",
       "</table>\n",
       "</div>"
      ],
      "text/plain": [
       "        Datetime                Author  \\\n",
       "0  1702026952000           Hiral Goyal   \n",
       "1  1702026551000  Editor InceptiveMind   \n",
       "3  1702024655000           Ashley Paul   \n",
       "4  1702022744000        Pratham Nagpal   \n",
       "5  1702022458000        Pratham Nagpal   \n",
       "\n",
       "                                               Title  \\\n",
       "0  17 apps removed from Google for spying on user...   \n",
       "1  Airbus’ kit converts regular A400M into firefi...   \n",
       "3  RBI proposes setting up fintech repository by ...   \n",
       "4  Tata Opposes EV Import Tax Cut To Protect Dome...   \n",
       "5    Why Did India's BNPL Giant ZestMoney Shut Shop?   \n",
       "\n",
       "                                                Body  Published_Source  \\\n",
       "0  Google has removed 17 apps from Play Store, wh...  The Siasat Daily   \n",
       "1  Airbus has flight-tested its A400M Roll-on/Rol...    Inceptive Mind   \n",
       "3  RBI Governor Shaktikanta Das said the Monetary...      Moneycontrol   \n",
       "4  Tata Motors is reportedly urging Indian offici...         inc42.com   \n",
       "5  Founders quitting, a failed acquisition bid, r...         inc42.com   \n",
       "\n",
       "     Category  Rank  \n",
       "0  technology     0  \n",
       "1  technology     1  \n",
       "3  technology     3  \n",
       "4  technology     4  \n",
       "5  technology     5  "
      ]
     },
     "execution_count": 4,
     "metadata": {},
     "output_type": "execute_result"
    }
   ],
   "source": [
    "fetched_df.head()"
   ]
  },
  {
   "cell_type": "code",
   "execution_count": 5,
   "id": "fd89e258",
   "metadata": {},
   "outputs": [],
   "source": [
    "# Fetching top 100 items from each category \n",
    "\n",
    "categories = ['technology', 'automobile', 'science', 'hatke']\n",
    "\n",
    "# Create the final dataframe by concatenating filtered and sorted subsets\n",
    "df = pd.concat([fetched_df[fetched_df['Category'] == category].sort_values(by='Rank').head(100) for category in categories])\n",
    "\n",
    "# Resetting the index of the final dataframe\n",
    "df = df.reset_index(drop=True)"
   ]
  },
  {
   "cell_type": "code",
   "execution_count": 6,
   "id": "fb3d9866",
   "metadata": {},
   "outputs": [
    {
     "data": {
      "text/html": [
       "<div>\n",
       "<style scoped>\n",
       "    .dataframe tbody tr th:only-of-type {\n",
       "        vertical-align: middle;\n",
       "    }\n",
       "\n",
       "    .dataframe tbody tr th {\n",
       "        vertical-align: top;\n",
       "    }\n",
       "\n",
       "    .dataframe thead th {\n",
       "        text-align: right;\n",
       "    }\n",
       "</style>\n",
       "<table border=\"1\" class=\"dataframe\">\n",
       "  <thead>\n",
       "    <tr style=\"text-align: right;\">\n",
       "      <th></th>\n",
       "      <th>Datetime</th>\n",
       "      <th>Author</th>\n",
       "      <th>Title</th>\n",
       "      <th>Body</th>\n",
       "      <th>Published_Source</th>\n",
       "      <th>Category</th>\n",
       "      <th>Rank</th>\n",
       "    </tr>\n",
       "  </thead>\n",
       "  <tbody>\n",
       "    <tr>\n",
       "      <th>0</th>\n",
       "      <td>1702026952000</td>\n",
       "      <td>Hiral Goyal</td>\n",
       "      <td>17 apps removed from Google for spying on user...</td>\n",
       "      <td>Google has removed 17 apps from Play Store, wh...</td>\n",
       "      <td>The Siasat Daily</td>\n",
       "      <td>technology</td>\n",
       "      <td>0</td>\n",
       "    </tr>\n",
       "    <tr>\n",
       "      <th>1</th>\n",
       "      <td>1702026551000</td>\n",
       "      <td>Editor InceptiveMind</td>\n",
       "      <td>Airbus’ kit converts regular A400M into firefi...</td>\n",
       "      <td>Airbus has flight-tested its A400M Roll-on/Rol...</td>\n",
       "      <td>Inceptive Mind</td>\n",
       "      <td>technology</td>\n",
       "      <td>1</td>\n",
       "    </tr>\n",
       "    <tr>\n",
       "      <th>2</th>\n",
       "      <td>1702024655000</td>\n",
       "      <td>Ashley Paul</td>\n",
       "      <td>RBI proposes setting up fintech repository by ...</td>\n",
       "      <td>RBI Governor Shaktikanta Das said the Monetary...</td>\n",
       "      <td>Moneycontrol</td>\n",
       "      <td>technology</td>\n",
       "      <td>3</td>\n",
       "    </tr>\n",
       "    <tr>\n",
       "      <th>3</th>\n",
       "      <td>1702022744000</td>\n",
       "      <td>Pratham Nagpal</td>\n",
       "      <td>Tata Opposes EV Import Tax Cut To Protect Dome...</td>\n",
       "      <td>Tata Motors is reportedly urging Indian offici...</td>\n",
       "      <td>inc42.com</td>\n",
       "      <td>technology</td>\n",
       "      <td>4</td>\n",
       "    </tr>\n",
       "    <tr>\n",
       "      <th>4</th>\n",
       "      <td>1702022458000</td>\n",
       "      <td>Pratham Nagpal</td>\n",
       "      <td>Why Did India's BNPL Giant ZestMoney Shut Shop?</td>\n",
       "      <td>Founders quitting, a failed acquisition bid, r...</td>\n",
       "      <td>inc42.com</td>\n",
       "      <td>technology</td>\n",
       "      <td>5</td>\n",
       "    </tr>\n",
       "  </tbody>\n",
       "</table>\n",
       "</div>"
      ],
      "text/plain": [
       "        Datetime                Author  \\\n",
       "0  1702026952000           Hiral Goyal   \n",
       "1  1702026551000  Editor InceptiveMind   \n",
       "2  1702024655000           Ashley Paul   \n",
       "3  1702022744000        Pratham Nagpal   \n",
       "4  1702022458000        Pratham Nagpal   \n",
       "\n",
       "                                               Title  \\\n",
       "0  17 apps removed from Google for spying on user...   \n",
       "1  Airbus’ kit converts regular A400M into firefi...   \n",
       "2  RBI proposes setting up fintech repository by ...   \n",
       "3  Tata Opposes EV Import Tax Cut To Protect Dome...   \n",
       "4    Why Did India's BNPL Giant ZestMoney Shut Shop?   \n",
       "\n",
       "                                                Body  Published_Source  \\\n",
       "0  Google has removed 17 apps from Play Store, wh...  The Siasat Daily   \n",
       "1  Airbus has flight-tested its A400M Roll-on/Rol...    Inceptive Mind   \n",
       "2  RBI Governor Shaktikanta Das said the Monetary...      Moneycontrol   \n",
       "3  Tata Motors is reportedly urging Indian offici...         inc42.com   \n",
       "4  Founders quitting, a failed acquisition bid, r...         inc42.com   \n",
       "\n",
       "     Category  Rank  \n",
       "0  technology     0  \n",
       "1  technology     1  \n",
       "2  technology     3  \n",
       "3  technology     4  \n",
       "4  technology     5  "
      ]
     },
     "execution_count": 6,
     "metadata": {},
     "output_type": "execute_result"
    }
   ],
   "source": [
    "df.head()"
   ]
  },
  {
   "cell_type": "code",
   "execution_count": 7,
   "id": "e8ea0b55",
   "metadata": {
    "id": "e8ea0b55"
   },
   "outputs": [],
   "source": [
    "# Convert Unix timestamp in milliseconds to datetime format\n",
    "\n",
    "df['Datetime'] = pd.to_datetime(df['Datetime'], unit='ms')\n",
    "\n",
    "# Creating Date and Time columns separately as required \n",
    "\n",
    "df['Date'] = df['Datetime'].dt.date\n",
    "df['Time'] = df['Datetime'].dt.strftime('%H:%M')\n",
    "\n",
    "# Deleting the original Datetime column\n",
    "\n",
    "del df[\"Datetime\"]\n",
    "\n",
    "# Rearranging the dataframe in a required order\n",
    "\n",
    "df = df[['Date', 'Time', 'Author', 'Title', 'Body', 'Published_Source', 'Category']]"
   ]
  },
  {
   "cell_type": "code",
   "execution_count": 8,
   "id": "dcb2a237",
   "metadata": {},
   "outputs": [
    {
     "name": "stdout",
     "output_type": "stream",
     "text": [
      "(400, 7)\n"
     ]
    },
    {
     "data": {
      "text/html": [
       "<div>\n",
       "<style scoped>\n",
       "    .dataframe tbody tr th:only-of-type {\n",
       "        vertical-align: middle;\n",
       "    }\n",
       "\n",
       "    .dataframe tbody tr th {\n",
       "        vertical-align: top;\n",
       "    }\n",
       "\n",
       "    .dataframe thead th {\n",
       "        text-align: right;\n",
       "    }\n",
       "</style>\n",
       "<table border=\"1\" class=\"dataframe\">\n",
       "  <thead>\n",
       "    <tr style=\"text-align: right;\">\n",
       "      <th></th>\n",
       "      <th>Date</th>\n",
       "      <th>Time</th>\n",
       "      <th>Author</th>\n",
       "      <th>Title</th>\n",
       "      <th>Body</th>\n",
       "      <th>Published_Source</th>\n",
       "      <th>Category</th>\n",
       "    </tr>\n",
       "  </thead>\n",
       "  <tbody>\n",
       "    <tr>\n",
       "      <th>0</th>\n",
       "      <td>2023-12-08</td>\n",
       "      <td>09:15</td>\n",
       "      <td>Hiral Goyal</td>\n",
       "      <td>17 apps removed from Google for spying on user...</td>\n",
       "      <td>Google has removed 17 apps from Play Store, wh...</td>\n",
       "      <td>The Siasat Daily</td>\n",
       "      <td>technology</td>\n",
       "    </tr>\n",
       "    <tr>\n",
       "      <th>1</th>\n",
       "      <td>2023-12-08</td>\n",
       "      <td>09:09</td>\n",
       "      <td>Editor InceptiveMind</td>\n",
       "      <td>Airbus’ kit converts regular A400M into firefi...</td>\n",
       "      <td>Airbus has flight-tested its A400M Roll-on/Rol...</td>\n",
       "      <td>Inceptive Mind</td>\n",
       "      <td>technology</td>\n",
       "    </tr>\n",
       "    <tr>\n",
       "      <th>2</th>\n",
       "      <td>2023-12-08</td>\n",
       "      <td>08:37</td>\n",
       "      <td>Ashley Paul</td>\n",
       "      <td>RBI proposes setting up fintech repository by ...</td>\n",
       "      <td>RBI Governor Shaktikanta Das said the Monetary...</td>\n",
       "      <td>Moneycontrol</td>\n",
       "      <td>technology</td>\n",
       "    </tr>\n",
       "    <tr>\n",
       "      <th>3</th>\n",
       "      <td>2023-12-08</td>\n",
       "      <td>08:05</td>\n",
       "      <td>Pratham Nagpal</td>\n",
       "      <td>Tata Opposes EV Import Tax Cut To Protect Dome...</td>\n",
       "      <td>Tata Motors is reportedly urging Indian offici...</td>\n",
       "      <td>inc42.com</td>\n",
       "      <td>technology</td>\n",
       "    </tr>\n",
       "    <tr>\n",
       "      <th>4</th>\n",
       "      <td>2023-12-08</td>\n",
       "      <td>08:00</td>\n",
       "      <td>Pratham Nagpal</td>\n",
       "      <td>Why Did India's BNPL Giant ZestMoney Shut Shop?</td>\n",
       "      <td>Founders quitting, a failed acquisition bid, r...</td>\n",
       "      <td>inc42.com</td>\n",
       "      <td>technology</td>\n",
       "    </tr>\n",
       "  </tbody>\n",
       "</table>\n",
       "</div>"
      ],
      "text/plain": [
       "         Date   Time                Author  \\\n",
       "0  2023-12-08  09:15           Hiral Goyal   \n",
       "1  2023-12-08  09:09  Editor InceptiveMind   \n",
       "2  2023-12-08  08:37           Ashley Paul   \n",
       "3  2023-12-08  08:05        Pratham Nagpal   \n",
       "4  2023-12-08  08:00        Pratham Nagpal   \n",
       "\n",
       "                                               Title  \\\n",
       "0  17 apps removed from Google for spying on user...   \n",
       "1  Airbus’ kit converts regular A400M into firefi...   \n",
       "2  RBI proposes setting up fintech repository by ...   \n",
       "3  Tata Opposes EV Import Tax Cut To Protect Dome...   \n",
       "4    Why Did India's BNPL Giant ZestMoney Shut Shop?   \n",
       "\n",
       "                                                Body  Published_Source  \\\n",
       "0  Google has removed 17 apps from Play Store, wh...  The Siasat Daily   \n",
       "1  Airbus has flight-tested its A400M Roll-on/Rol...    Inceptive Mind   \n",
       "2  RBI Governor Shaktikanta Das said the Monetary...      Moneycontrol   \n",
       "3  Tata Motors is reportedly urging Indian offici...         inc42.com   \n",
       "4  Founders quitting, a failed acquisition bid, r...         inc42.com   \n",
       "\n",
       "     Category  \n",
       "0  technology  \n",
       "1  technology  \n",
       "2  technology  \n",
       "3  technology  \n",
       "4  technology  "
      ]
     },
     "execution_count": 8,
     "metadata": {},
     "output_type": "execute_result"
    }
   ],
   "source": [
    "# Displaying Dataframe\n",
    "print(df.shape)\n",
    "df.head()"
   ]
  },
  {
   "cell_type": "code",
   "execution_count": null,
   "id": "e9f6713d",
   "metadata": {},
   "outputs": [],
   "source": []
  },
  {
   "cell_type": "code",
   "execution_count": null,
   "id": "d795f2b8",
   "metadata": {},
   "outputs": [],
   "source": []
  },
  {
   "cell_type": "markdown",
   "id": "301bc366",
   "metadata": {},
   "source": [
    "### Data Storage:\n",
    "\n",
    "#### Design a relational database schema to store the extracted information.\n",
    "#### Pipeline the data into the designed database."
   ]
  },
  {
   "cell_type": "code",
   "execution_count": 9,
   "id": "a39e827c",
   "metadata": {
    "id": "a39e827c"
   },
   "outputs": [],
   "source": [
    "# Importing Required Libraries\n",
    "\n",
    "import sqlite3\n",
    "import pandas as pd"
   ]
  },
  {
   "cell_type": "code",
   "execution_count": 10,
   "id": "k_NtkKKwgYvw",
   "metadata": {
    "id": "k_NtkKKwgYvw"
   },
   "outputs": [],
   "source": [
    "# Connect to SQLite database\n",
    "\n",
    "conn = sqlite3.connect('news_database.db')\n",
    "\n",
    "# Create a cursor object to execute SQL queries\n",
    "\n",
    "cursor = conn.cursor()"
   ]
  },
  {
   "cell_type": "code",
   "execution_count": 11,
   "id": "4arolmzTkqxC",
   "metadata": {
    "colab": {
     "base_uri": "https://localhost:8080/"
    },
    "id": "4arolmzTkqxC",
    "outputId": "5b783e81-fb53-4461-ac96-3a361c8cf4e0"
   },
   "outputs": [
    {
     "data": {
      "text/plain": [
       "<sqlite3.Cursor at 0x12921b340>"
      ]
     },
     "execution_count": 11,
     "metadata": {},
     "output_type": "execute_result"
    }
   ],
   "source": [
    "# Drop Table If exists\n",
    "\n",
    "cursor.execute('''DROP TABLE IF EXISTS News_Items''')"
   ]
  },
  {
   "cell_type": "code",
   "execution_count": 12,
   "id": "MZ1Q9957iAhD",
   "metadata": {
    "colab": {
     "base_uri": "https://localhost:8080/"
    },
    "id": "MZ1Q9957iAhD",
    "outputId": "2a14690b-6195-45f3-f8d0-97437d26b9ae"
   },
   "outputs": [
    {
     "data": {
      "text/plain": [
       "<sqlite3.Cursor at 0x12921b340>"
      ]
     },
     "execution_count": 12,
     "metadata": {},
     "output_type": "execute_result"
    }
   ],
   "source": [
    "# Create a table in the database\n",
    "\n",
    "cursor.execute('''\n",
    "    CREATE TABLE IF NOT EXISTS News_Items (\n",
    "        S_No INTEGER PRIMARY KEY,\n",
    "        Date Date,\n",
    "        Time Time,\n",
    "        Author TEXT,\n",
    "        Title TEXT,\n",
    "        Body TEXT,\n",
    "        Published_Source TEXT,\n",
    "        Category TEXT\n",
    "    )\n",
    "''')"
   ]
  },
  {
   "cell_type": "code",
   "execution_count": 13,
   "id": "UlPg9zDYg7fD",
   "metadata": {
    "id": "UlPg9zDYg7fD"
   },
   "outputs": [],
   "source": [
    "# Pipeline the data into the database\n",
    "\n",
    "for index, row in df.iterrows():\n",
    "    cursor.execute('''\n",
    "        INSERT INTO News_Items (Date, Time, Author, Title, Body, Published_Source, Category)\n",
    "        VALUES (?, ?, ?, ?, ?, ?, ?)\n",
    "    ''', (row['Date'], row['Time'], row['Author'], row['Title'], row['Body'], row['Published_Source'], row['Category']))\n"
   ]
  },
  {
   "cell_type": "code",
   "execution_count": 14,
   "id": "5QdTOdoqiMFu",
   "metadata": {
    "id": "5QdTOdoqiMFu"
   },
   "outputs": [],
   "source": [
    "# Commit the changes\n",
    "conn.commit()"
   ]
  },
  {
   "cell_type": "code",
   "execution_count": 15,
   "id": "WgTWlvZ7jR_f",
   "metadata": {
    "colab": {
     "base_uri": "https://localhost:8080/"
    },
    "id": "WgTWlvZ7jR_f",
    "outputId": "7ff6940d-6987-42a8-df10-5f3018590123"
   },
   "outputs": [],
   "source": [
    "# Execute a SELECT query to fetch all rows from the News Items table\n",
    "cursor.execute('''select * from News_Items''')\n",
    "\n",
    "# Fetch all rows from the result set\n",
    "rows = cursor.fetchall()\n",
    "\n",
    "# Get column names from the cursor description\n",
    "columns = [description[0] for description in cursor.description]\n",
    "# print(columns)\n",
    "\n",
    "\n",
    "# Display results\n",
    "# for row in rows:\n",
    "#     print(row)    \n",
    "    \n",
    "# Close the connection    \n",
    "conn.close()"
   ]
  },
  {
   "cell_type": "markdown",
   "id": "57881e87",
   "metadata": {},
   "source": [
    "# "
   ]
  },
  {
   "cell_type": "markdown",
   "id": "b5df45c0",
   "metadata": {},
   "source": [
    "### Keyword Analysis:\n",
    "\n",
    "#### Create a word cloud visualization based on the frequency of the following keywords in the fetched articles: \"Diwali\", \"Offer\", \"Discount\", \"Dhamaka\", \"Dead\", \"Fire\", \"Burn\"."
   ]
  },
  {
   "cell_type": "code",
   "execution_count": 16,
   "id": "98e06a2d",
   "metadata": {},
   "outputs": [
    {
     "data": {
      "text/html": [
       "<div>\n",
       "<style scoped>\n",
       "    .dataframe tbody tr th:only-of-type {\n",
       "        vertical-align: middle;\n",
       "    }\n",
       "\n",
       "    .dataframe tbody tr th {\n",
       "        vertical-align: top;\n",
       "    }\n",
       "\n",
       "    .dataframe thead th {\n",
       "        text-align: right;\n",
       "    }\n",
       "</style>\n",
       "<table border=\"1\" class=\"dataframe\">\n",
       "  <thead>\n",
       "    <tr style=\"text-align: right;\">\n",
       "      <th></th>\n",
       "      <th>Date</th>\n",
       "      <th>Time</th>\n",
       "      <th>Author</th>\n",
       "      <th>Title</th>\n",
       "      <th>Body</th>\n",
       "      <th>Published_Source</th>\n",
       "      <th>Category</th>\n",
       "    </tr>\n",
       "  </thead>\n",
       "  <tbody>\n",
       "    <tr>\n",
       "      <th>0</th>\n",
       "      <td>2023-12-08</td>\n",
       "      <td>09:15</td>\n",
       "      <td>Hiral Goyal</td>\n",
       "      <td>17 apps removed from Google for spying on user...</td>\n",
       "      <td>Google has removed 17 apps from Play Store, wh...</td>\n",
       "      <td>The Siasat Daily</td>\n",
       "      <td>technology</td>\n",
       "    </tr>\n",
       "    <tr>\n",
       "      <th>1</th>\n",
       "      <td>2023-12-08</td>\n",
       "      <td>09:09</td>\n",
       "      <td>Editor InceptiveMind</td>\n",
       "      <td>Airbus’ kit converts regular A400M into firefi...</td>\n",
       "      <td>Airbus has flight-tested its A400M Roll-on/Rol...</td>\n",
       "      <td>Inceptive Mind</td>\n",
       "      <td>technology</td>\n",
       "    </tr>\n",
       "    <tr>\n",
       "      <th>2</th>\n",
       "      <td>2023-12-08</td>\n",
       "      <td>08:37</td>\n",
       "      <td>Ashley Paul</td>\n",
       "      <td>RBI proposes setting up fintech repository by ...</td>\n",
       "      <td>RBI Governor Shaktikanta Das said the Monetary...</td>\n",
       "      <td>Moneycontrol</td>\n",
       "      <td>technology</td>\n",
       "    </tr>\n",
       "    <tr>\n",
       "      <th>3</th>\n",
       "      <td>2023-12-08</td>\n",
       "      <td>08:05</td>\n",
       "      <td>Pratham Nagpal</td>\n",
       "      <td>Tata Opposes EV Import Tax Cut To Protect Dome...</td>\n",
       "      <td>Tata Motors is reportedly urging Indian offici...</td>\n",
       "      <td>inc42.com</td>\n",
       "      <td>technology</td>\n",
       "    </tr>\n",
       "    <tr>\n",
       "      <th>4</th>\n",
       "      <td>2023-12-08</td>\n",
       "      <td>08:00</td>\n",
       "      <td>Pratham Nagpal</td>\n",
       "      <td>Why Did India's BNPL Giant ZestMoney Shut Shop?</td>\n",
       "      <td>Founders quitting, a failed acquisition bid, r...</td>\n",
       "      <td>inc42.com</td>\n",
       "      <td>technology</td>\n",
       "    </tr>\n",
       "  </tbody>\n",
       "</table>\n",
       "</div>"
      ],
      "text/plain": [
       "         Date   Time                Author  \\\n",
       "0  2023-12-08  09:15           Hiral Goyal   \n",
       "1  2023-12-08  09:09  Editor InceptiveMind   \n",
       "2  2023-12-08  08:37           Ashley Paul   \n",
       "3  2023-12-08  08:05        Pratham Nagpal   \n",
       "4  2023-12-08  08:00        Pratham Nagpal   \n",
       "\n",
       "                                               Title  \\\n",
       "0  17 apps removed from Google for spying on user...   \n",
       "1  Airbus’ kit converts regular A400M into firefi...   \n",
       "2  RBI proposes setting up fintech repository by ...   \n",
       "3  Tata Opposes EV Import Tax Cut To Protect Dome...   \n",
       "4    Why Did India's BNPL Giant ZestMoney Shut Shop?   \n",
       "\n",
       "                                                Body  Published_Source  \\\n",
       "0  Google has removed 17 apps from Play Store, wh...  The Siasat Daily   \n",
       "1  Airbus has flight-tested its A400M Roll-on/Rol...    Inceptive Mind   \n",
       "2  RBI Governor Shaktikanta Das said the Monetary...      Moneycontrol   \n",
       "3  Tata Motors is reportedly urging Indian offici...         inc42.com   \n",
       "4  Founders quitting, a failed acquisition bid, r...         inc42.com   \n",
       "\n",
       "     Category  \n",
       "0  technology  \n",
       "1  technology  \n",
       "2  technology  \n",
       "3  technology  \n",
       "4  technology  "
      ]
     },
     "execution_count": 16,
     "metadata": {},
     "output_type": "execute_result"
    }
   ],
   "source": [
    "df.head()"
   ]
  },
  {
   "cell_type": "code",
   "execution_count": 17,
   "id": "be2c3a51",
   "metadata": {},
   "outputs": [],
   "source": [
    "# Importing Required Libraries\n",
    "\n",
    "from wordcloud import WordCloud\n",
    "import matplotlib.pyplot as plt"
   ]
  },
  {
   "cell_type": "code",
   "execution_count": 18,
   "id": "36011bc1",
   "metadata": {},
   "outputs": [
    {
     "data": {
      "image/png": "[encoded data removed]",
      "text/plain": [
       "<Figure size 1000x500 with 1 Axes>"
      ]
     },
     "metadata": {},
     "output_type": "display_data"
    }
   ],
   "source": [
    "# Keywords for analysis\n",
    "keywords = [\"Diwali\", \"Offer\", \"Discount\", \"Dhamaka\", \"Dead\", \"Fire\", \"Burn\"]\n",
    "\n",
    "# Combine relevant text fields (Title, Body) into a single column for analysis\n",
    "df['Text'] = df['Title'] + ' ' + df['Body']\n",
    "\n",
    "# Concatenate the text from all rows\n",
    "all_text = ' '.join(df['Text'])\n",
    "\n",
    "# Generate word cloud based on the frequency of specified keywords\n",
    "wordcloud = WordCloud(width=800, height=400, background_color='white').generate_from_frequencies({keyword: all_text.lower().count(keyword.lower()) for keyword in keywords})\n",
    "\n",
    "# Display the word cloud using matplotlib\n",
    "plt.figure(figsize=(10, 5))\n",
    "plt.imshow(wordcloud, interpolation='bilinear')\n",
    "plt.axis('off')\n",
    "plt.show()"
   ]
  },
  {
   "cell_type": "code",
   "execution_count": null,
   "id": "73ef4dd4",
   "metadata": {},
   "outputs": [],
   "source": []
  }
 ],
 "metadata": {
  "colab": {
   "provenance": []
  },
  "kernelspec": {
   "display_name": "Python 3 (ipykernel)",
   "language": "python",
   "name": "python3"
  },
  "language_info": {
   "codemirror_mode": {
    "name": "ipython",
    "version": 3
   },
   "file_extension": ".py",
   "mimetype": "text/x-python",
   "name": "python",
   "nbconvert_exporter": "python",
   "pygments_lexer": "ipython3",
   "version": "3.11.4"
  }
 },
 "nbformat": 4,
 "nbformat_minor": 5
}
